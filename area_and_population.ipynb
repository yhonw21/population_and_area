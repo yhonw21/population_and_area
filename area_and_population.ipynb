{
 "cells": [
  {
   "cell_type": "markdown",
   "metadata": {},
   "source": [
    "# Data Sciencie Project on area and Population\n",
    "\n",
    "In this project we'll use the size of points to indicate the area and populations of California cities. We would like a legend that specifies the scale of the sizes of the points, and we'll accomplish this by plotting some labeled data with no entries\n",
    "\n",
    "Original project Aman Kharwal"
   ]
  },
  {
   "cell_type": "code",
   "execution_count": 1,
   "metadata": {},
   "outputs": [
    {
     "name": "stdout",
     "output_type": "stream",
     "text": [
      "   Unnamed: 0         city       latd       longd  elevation_m  elevation_ft  \\\n",
      "0           0     Adelanto  34.576111 -117.432778        875.0        2871.0   \n",
      "1           1  AgouraHills  34.153333 -118.761667        281.0         922.0   \n",
      "2           2      Alameda  37.756111 -122.274444          NaN          33.0   \n",
      "3           3       Albany  37.886944 -122.297778          NaN          43.0   \n",
      "4           4     Alhambra  34.081944 -118.135000        150.0         492.0   \n",
      "\n",
      "   population_total  area_total_sq_mi  area_land_sq_mi  area_water_sq_mi  \\\n",
      "0             31765            56.027           56.009             0.018   \n",
      "1             20330             7.822            7.793             0.029   \n",
      "2             75467            22.960           10.611            12.349   \n",
      "3             18969             5.465            1.788             3.677   \n",
      "4             83089             7.632            7.631             0.001   \n",
      "\n",
      "   area_total_km2  area_land_km2  area_water_km2  area_water_percent  \n",
      "0         145.107        145.062           0.046                0.03  \n",
      "1          20.260         20.184           0.076                0.37  \n",
      "2          59.465         27.482          31.983               53.79  \n",
      "3          14.155          4.632           9.524               67.28  \n",
      "4          19.766         19.763           0.003                0.01  \n"
     ]
    }
   ],
   "source": [
    "# Import the libraries and dataset\n",
    "\n",
    "import pandas as pd\n",
    "import plotly.express as px\n",
    "import plotly.io as pio\n",
    "import plotly.graph_objects as go\n",
    "\n",
    "cities = pd.read_csv(\"california_cities.csv\")\n",
    "print(cities.head())\n"
   ]
  },
  {
   "cell_type": "code",
   "execution_count": 2,
   "metadata": {},
   "outputs": [
    {
     "data": {
      "text/html": [
       "<div>\n",
       "<style scoped>\n",
       "    .dataframe tbody tr th:only-of-type {\n",
       "        vertical-align: middle;\n",
       "    }\n",
       "\n",
       "    .dataframe tbody tr th {\n",
       "        vertical-align: top;\n",
       "    }\n",
       "\n",
       "    .dataframe thead th {\n",
       "        text-align: right;\n",
       "    }\n",
       "</style>\n",
       "<table border=\"1\" class=\"dataframe\">\n",
       "  <thead>\n",
       "    <tr style=\"text-align: right;\">\n",
       "      <th></th>\n",
       "      <th>Unnamed: 0</th>\n",
       "      <th>city</th>\n",
       "      <th>latd</th>\n",
       "      <th>longd</th>\n",
       "      <th>elevation_m</th>\n",
       "      <th>elevation_ft</th>\n",
       "      <th>population_total</th>\n",
       "      <th>area_total_sq_mi</th>\n",
       "      <th>area_land_sq_mi</th>\n",
       "      <th>area_water_sq_mi</th>\n",
       "      <th>area_total_km2</th>\n",
       "      <th>area_land_km2</th>\n",
       "      <th>area_water_km2</th>\n",
       "      <th>area_water_percent</th>\n",
       "    </tr>\n",
       "  </thead>\n",
       "  <tbody>\n",
       "    <tr>\n",
       "      <th>0</th>\n",
       "      <td>0</td>\n",
       "      <td>Adelanto</td>\n",
       "      <td>34.576111</td>\n",
       "      <td>-117.432778</td>\n",
       "      <td>875.0</td>\n",
       "      <td>2871.0</td>\n",
       "      <td>31765</td>\n",
       "      <td>56.027</td>\n",
       "      <td>56.009</td>\n",
       "      <td>0.018</td>\n",
       "      <td>145.107</td>\n",
       "      <td>145.062</td>\n",
       "      <td>0.046</td>\n",
       "      <td>0.03</td>\n",
       "    </tr>\n",
       "    <tr>\n",
       "      <th>1</th>\n",
       "      <td>1</td>\n",
       "      <td>AgouraHills</td>\n",
       "      <td>34.153333</td>\n",
       "      <td>-118.761667</td>\n",
       "      <td>281.0</td>\n",
       "      <td>922.0</td>\n",
       "      <td>20330</td>\n",
       "      <td>7.822</td>\n",
       "      <td>7.793</td>\n",
       "      <td>0.029</td>\n",
       "      <td>20.260</td>\n",
       "      <td>20.184</td>\n",
       "      <td>0.076</td>\n",
       "      <td>0.37</td>\n",
       "    </tr>\n",
       "    <tr>\n",
       "      <th>2</th>\n",
       "      <td>2</td>\n",
       "      <td>Alameda</td>\n",
       "      <td>37.756111</td>\n",
       "      <td>-122.274444</td>\n",
       "      <td>NaN</td>\n",
       "      <td>33.0</td>\n",
       "      <td>75467</td>\n",
       "      <td>22.960</td>\n",
       "      <td>10.611</td>\n",
       "      <td>12.349</td>\n",
       "      <td>59.465</td>\n",
       "      <td>27.482</td>\n",
       "      <td>31.983</td>\n",
       "      <td>53.79</td>\n",
       "    </tr>\n",
       "    <tr>\n",
       "      <th>3</th>\n",
       "      <td>3</td>\n",
       "      <td>Albany</td>\n",
       "      <td>37.886944</td>\n",
       "      <td>-122.297778</td>\n",
       "      <td>NaN</td>\n",
       "      <td>43.0</td>\n",
       "      <td>18969</td>\n",
       "      <td>5.465</td>\n",
       "      <td>1.788</td>\n",
       "      <td>3.677</td>\n",
       "      <td>14.155</td>\n",
       "      <td>4.632</td>\n",
       "      <td>9.524</td>\n",
       "      <td>67.28</td>\n",
       "    </tr>\n",
       "    <tr>\n",
       "      <th>4</th>\n",
       "      <td>4</td>\n",
       "      <td>Alhambra</td>\n",
       "      <td>34.081944</td>\n",
       "      <td>-118.135000</td>\n",
       "      <td>150.0</td>\n",
       "      <td>492.0</td>\n",
       "      <td>83089</td>\n",
       "      <td>7.632</td>\n",
       "      <td>7.631</td>\n",
       "      <td>0.001</td>\n",
       "      <td>19.766</td>\n",
       "      <td>19.763</td>\n",
       "      <td>0.003</td>\n",
       "      <td>0.01</td>\n",
       "    </tr>\n",
       "  </tbody>\n",
       "</table>\n",
       "</div>"
      ],
      "text/plain": [
       "   Unnamed: 0         city       latd       longd  elevation_m  elevation_ft  \\\n",
       "0           0     Adelanto  34.576111 -117.432778        875.0        2871.0   \n",
       "1           1  AgouraHills  34.153333 -118.761667        281.0         922.0   \n",
       "2           2      Alameda  37.756111 -122.274444          NaN          33.0   \n",
       "3           3       Albany  37.886944 -122.297778          NaN          43.0   \n",
       "4           4     Alhambra  34.081944 -118.135000        150.0         492.0   \n",
       "\n",
       "   population_total  area_total_sq_mi  area_land_sq_mi  area_water_sq_mi  \\\n",
       "0             31765            56.027           56.009             0.018   \n",
       "1             20330             7.822            7.793             0.029   \n",
       "2             75467            22.960           10.611            12.349   \n",
       "3             18969             5.465            1.788             3.677   \n",
       "4             83089             7.632            7.631             0.001   \n",
       "\n",
       "   area_total_km2  area_land_km2  area_water_km2  area_water_percent  \n",
       "0         145.107        145.062           0.046                0.03  \n",
       "1          20.260         20.184           0.076                0.37  \n",
       "2          59.465         27.482          31.983               53.79  \n",
       "3          14.155          4.632           9.524               67.28  \n",
       "4          19.766         19.763           0.003                0.01  "
      ]
     },
     "execution_count": 2,
     "metadata": {},
     "output_type": "execute_result"
    }
   ],
   "source": [
    "# Explore the dataset - Quick check of the beginning of the dataframe\n",
    "cities.head()"
   ]
  },
  {
   "cell_type": "code",
   "execution_count": 3,
   "metadata": {},
   "outputs": [
    {
     "data": {
      "text/html": [
       "<div>\n",
       "<style scoped>\n",
       "    .dataframe tbody tr th:only-of-type {\n",
       "        vertical-align: middle;\n",
       "    }\n",
       "\n",
       "    .dataframe tbody tr th {\n",
       "        vertical-align: top;\n",
       "    }\n",
       "\n",
       "    .dataframe thead th {\n",
       "        text-align: right;\n",
       "    }\n",
       "</style>\n",
       "<table border=\"1\" class=\"dataframe\">\n",
       "  <thead>\n",
       "    <tr style=\"text-align: right;\">\n",
       "      <th></th>\n",
       "      <th>Unnamed: 0</th>\n",
       "      <th>city</th>\n",
       "      <th>latd</th>\n",
       "      <th>longd</th>\n",
       "      <th>elevation_m</th>\n",
       "      <th>elevation_ft</th>\n",
       "      <th>population_total</th>\n",
       "      <th>area_total_sq_mi</th>\n",
       "      <th>area_land_sq_mi</th>\n",
       "      <th>area_water_sq_mi</th>\n",
       "      <th>area_total_km2</th>\n",
       "      <th>area_land_km2</th>\n",
       "      <th>area_water_km2</th>\n",
       "      <th>area_water_percent</th>\n",
       "    </tr>\n",
       "  </thead>\n",
       "  <tbody>\n",
       "    <tr>\n",
       "      <th>477</th>\n",
       "      <td>477</td>\n",
       "      <td>Yountville</td>\n",
       "      <td>38.403056</td>\n",
       "      <td>-122.362222</td>\n",
       "      <td>30.0</td>\n",
       "      <td>98.0</td>\n",
       "      <td>2933</td>\n",
       "      <td>1.531</td>\n",
       "      <td>1.531</td>\n",
       "      <td>0.000</td>\n",
       "      <td>3.966</td>\n",
       "      <td>3.966</td>\n",
       "      <td>0.000</td>\n",
       "      <td>0.00</td>\n",
       "    </tr>\n",
       "    <tr>\n",
       "      <th>478</th>\n",
       "      <td>478</td>\n",
       "      <td>Yreka</td>\n",
       "      <td>41.726667</td>\n",
       "      <td>-122.637500</td>\n",
       "      <td>787.0</td>\n",
       "      <td>2582.0</td>\n",
       "      <td>7765</td>\n",
       "      <td>10.053</td>\n",
       "      <td>9.980</td>\n",
       "      <td>0.073</td>\n",
       "      <td>26.036</td>\n",
       "      <td>25.847</td>\n",
       "      <td>0.188</td>\n",
       "      <td>0.72</td>\n",
       "    </tr>\n",
       "    <tr>\n",
       "      <th>479</th>\n",
       "      <td>479</td>\n",
       "      <td>YubaCity</td>\n",
       "      <td>39.134722</td>\n",
       "      <td>-121.626111</td>\n",
       "      <td>18.0</td>\n",
       "      <td>59.0</td>\n",
       "      <td>64925</td>\n",
       "      <td>14.656</td>\n",
       "      <td>14.578</td>\n",
       "      <td>0.078</td>\n",
       "      <td>37.959</td>\n",
       "      <td>37.758</td>\n",
       "      <td>0.201</td>\n",
       "      <td>0.53</td>\n",
       "    </tr>\n",
       "    <tr>\n",
       "      <th>480</th>\n",
       "      <td>480</td>\n",
       "      <td>Yucaipa</td>\n",
       "      <td>34.030278</td>\n",
       "      <td>-117.048611</td>\n",
       "      <td>798.0</td>\n",
       "      <td>2618.0</td>\n",
       "      <td>51367</td>\n",
       "      <td>27.893</td>\n",
       "      <td>27.888</td>\n",
       "      <td>0.005</td>\n",
       "      <td>72.244</td>\n",
       "      <td>72.231</td>\n",
       "      <td>0.013</td>\n",
       "      <td>0.02</td>\n",
       "    </tr>\n",
       "    <tr>\n",
       "      <th>481</th>\n",
       "      <td>481</td>\n",
       "      <td>YuccaValley</td>\n",
       "      <td>34.133333</td>\n",
       "      <td>-116.416667</td>\n",
       "      <td>1027.0</td>\n",
       "      <td>3369.0</td>\n",
       "      <td>20700</td>\n",
       "      <td>40.015</td>\n",
       "      <td>40.015</td>\n",
       "      <td>0.000</td>\n",
       "      <td>103.639</td>\n",
       "      <td>103.639</td>\n",
       "      <td>0.000</td>\n",
       "      <td>0.00</td>\n",
       "    </tr>\n",
       "  </tbody>\n",
       "</table>\n",
       "</div>"
      ],
      "text/plain": [
       "     Unnamed: 0         city       latd       longd  elevation_m  \\\n",
       "477         477   Yountville  38.403056 -122.362222         30.0   \n",
       "478         478        Yreka  41.726667 -122.637500        787.0   \n",
       "479         479     YubaCity  39.134722 -121.626111         18.0   \n",
       "480         480      Yucaipa  34.030278 -117.048611        798.0   \n",
       "481         481  YuccaValley  34.133333 -116.416667       1027.0   \n",
       "\n",
       "     elevation_ft  population_total  area_total_sq_mi  area_land_sq_mi  \\\n",
       "477          98.0              2933             1.531            1.531   \n",
       "478        2582.0              7765            10.053            9.980   \n",
       "479          59.0             64925            14.656           14.578   \n",
       "480        2618.0             51367            27.893           27.888   \n",
       "481        3369.0             20700            40.015           40.015   \n",
       "\n",
       "     area_water_sq_mi  area_total_km2  area_land_km2  area_water_km2  \\\n",
       "477             0.000           3.966          3.966           0.000   \n",
       "478             0.073          26.036         25.847           0.188   \n",
       "479             0.078          37.959         37.758           0.201   \n",
       "480             0.005          72.244         72.231           0.013   \n",
       "481             0.000         103.639        103.639           0.000   \n",
       "\n",
       "     area_water_percent  \n",
       "477                0.00  \n",
       "478                0.72  \n",
       "479                0.53  \n",
       "480                0.02  \n",
       "481                0.00  "
      ]
     },
     "execution_count": 3,
     "metadata": {},
     "output_type": "execute_result"
    }
   ],
   "source": [
    "# Quick check of the end of the dataset\n",
    "cities.tail()"
   ]
  },
  {
   "cell_type": "code",
   "execution_count": 4,
   "metadata": {},
   "outputs": [
    {
     "name": "stdout",
     "output_type": "stream",
     "text": [
      "<class 'pandas.core.frame.DataFrame'>\n",
      "RangeIndex: 482 entries, 0 to 481\n",
      "Data columns (total 14 columns):\n",
      " #   Column              Non-Null Count  Dtype  \n",
      "---  ------              --------------  -----  \n",
      " 0   Unnamed: 0          482 non-null    int64  \n",
      " 1   city                482 non-null    object \n",
      " 2   latd                482 non-null    float64\n",
      " 3   longd               482 non-null    float64\n",
      " 4   elevation_m         434 non-null    float64\n",
      " 5   elevation_ft        470 non-null    float64\n",
      " 6   population_total    482 non-null    int64  \n",
      " 7   area_total_sq_mi    480 non-null    float64\n",
      " 8   area_land_sq_mi     482 non-null    float64\n",
      " 9   area_water_sq_mi    481 non-null    float64\n",
      " 10  area_total_km2      477 non-null    float64\n",
      " 11  area_land_km2       478 non-null    float64\n",
      " 12  area_water_km2      478 non-null    float64\n",
      " 13  area_water_percent  477 non-null    float64\n",
      "dtypes: float64(11), int64(2), object(1)\n",
      "memory usage: 52.8+ KB\n"
     ]
    }
   ],
   "source": [
    "# Check summary information about the dataframe\n",
    "cities.info()"
   ]
  },
  {
   "cell_type": "code",
   "execution_count": 5,
   "metadata": {},
   "outputs": [
    {
     "data": {
      "text/plain": [
       "3884307"
      ]
     },
     "execution_count": 5,
     "metadata": {},
     "output_type": "execute_result"
    }
   ],
   "source": [
    "# Which is the most people?\n",
    "\n",
    "cities.population_total.values.max()"
   ]
  },
  {
   "cell_type": "code",
   "execution_count": 7,
   "metadata": {},
   "outputs": [
    {
     "data": {
      "application/vnd.plotly.v1+json": {
       "config": {
        "plotlyServerURL": "https://plot.ly"
       },
       "data": [
        {
         "mode": "lines+markers",
         "name": "Population",
         "type": "scatter",
         "x": [
          "Adelanto",
          "AgouraHills",
          "Alameda",
          "Albany",
          "Alhambra",
          "AlisoViejo",
          "Alturas",
          "AmadorCity",
          "AmericanCanyon",
          "Anaheim",
          "Anderson",
          "AngelsCamp",
          "Antioch",
          "AppleValley",
          "Arcadia",
          "Arcata",
          "ArroyoGrande",
          "Artesia",
          "Arvin",
          "Atascadero",
          "Atherton",
          "Atwater",
          "Auburn",
          "Avalon",
          "Avenal",
          "Azusa",
          "Bakersfield",
          "BaldwinPark",
          "Banning",
          "Barstow",
          "Beaumont",
          "Bell",
          "Bellflower",
          "BellGardens",
          "Belmont",
          "Belvedere",
          "Benicia",
          "Berkeley",
          "BeverlyHills",
          "BigBearLake",
          "Biggs",
          "Bishop",
          "BlueLake",
          "Blythe",
          "Bradbury",
          "Brawley",
          "Brea",
          "Brentwood",
          "Brisbane",
          "Buellton",
          "BuenaPark",
          "Burbank",
          "Burlingame",
          "Calabasas",
          "Calexico",
          "CaliforniaCity",
          "Calimesa",
          "Calipatria",
          "Calistoga",
          "Camarillo",
          "Campbell",
          "CanyonLake",
          "Capitola",
          "Carlsbad",
          "CarmelbytheSea",
          "Carpinteria",
          "Carson",
          "CathedralCity",
          "Ceres",
          "Cerritos",
          "Chico",
          "Chino",
          "ChinoHills",
          "Chowchilla",
          "ChulaVista",
          "CitrusHeights",
          "Claremont",
          "Clayton",
          "Clearlake",
          "Cloverdale",
          "Clovis",
          "Coachella",
          "Coalinga",
          "Colfax",
          "Colma",
          "Colton",
          "Colusa",
          "Commerce",
          "Compton",
          "Concord",
          "Corcoran",
          "Corning",
          "Corona",
          "Coronado",
          "CorteMadera",
          "CostaMesa",
          "Cotati",
          "Covina",
          "CrescentCity",
          "Cudahy",
          "CulverCity",
          "Cupertino",
          "Cypress",
          "DalyCity",
          "DanaPoint",
          "Danville",
          "Davis",
          "Delano",
          "DelMar",
          "DelReyOaks",
          "DesertHotSprings",
          "DiamondBar",
          "Dinuba",
          "Dixon",
          "Dorris",
          "DosPalos",
          "Downey",
          "Duarte",
          "Dublin",
          "Dunsmuir",
          "EastPaloAlto",
          "Eastvale",
          "ElCajon",
          "ElCentro",
          "ElCerrito",
          "ElkGrove",
          "ElMonte",
          "ElSegundo",
          "Emeryville",
          "Encinitas",
          "Escalon",
          "Escondido",
          "Etna",
          "Eureka",
          "Exeter",
          "Fairfax",
          "Fairfield",
          "Farmersville",
          "Ferndale",
          "Fillmore",
          "Firebaugh",
          "Folsom",
          "Fontana",
          "FortBragg",
          "FortJones",
          "Fortuna",
          "FosterCity",
          "FountainValley",
          "Fowler",
          "Fremont",
          "Fresno",
          "Fullerton",
          "Galt",
          "Gardena",
          "GardenGrove",
          "Gilroy",
          "Glendale",
          "Glendora",
          "Goleta",
          "Gonzales",
          "GrandTerrace",
          "GrassValley",
          "Greenfield",
          "Gridley",
          "GroverBeach",
          "Guadalupe",
          "Gustine",
          "HalfMoonBay",
          "Hanford",
          "HawaiianGardens",
          "Hawthorne",
          "Hayward",
          "Healdsburg",
          "Hemet",
          "Hercules",
          "HermosaBeach",
          "Hesperia",
          "HiddenHills",
          "Highland",
          "Hillsborough",
          "Hollister",
          "Holtville",
          "Hughson",
          "HuntingtonBeach",
          "HuntingtonPark",
          "Huron",
          "ImperialBeach",
          "Imperial",
          "IndianWells",
          "Indio",
          "Industry",
          "Inglewood",
          "Ione",
          "Irvine",
          "Irwindale",
          "Isleton",
          "Jackson",
          "JurupaValley",
          "Kerman",
          "KingCity",
          "Kingsburg",
          "LaCaadaFlintridge",
          "Lafayette",
          "LagunaBeach",
          "LagunaHills",
          "LagunaNiguel",
          "LagunaWoods",
          "LaHabra",
          "LaHabraHeights",
          "LakeElsinore",
          "LakeForest",
          "Lakeport",
          "Lakewood",
          "LaMesa",
          "LaMirada",
          "Lancaster",
          "LaPalma",
          "LaPuente",
          "LaQuinta",
          "Larkspur",
          "Lathrop",
          "LaVerne",
          "Lawndale",
          "LemonGrove",
          "Lemoore",
          "Lincoln",
          "Lindsay",
          "LiveOakSutterCounty",
          "Livermore",
          "Livingston",
          "Lodi",
          "LomaLinda",
          "Lomita",
          "Lompoc",
          "LongBeach",
          "Loomis",
          "LosAlamitos",
          "LosAltos",
          "LosAltosHills",
          "LosAngeles",
          "LosBanos",
          "LosGatos",
          "Loyalton",
          "Lynwood",
          "Madera",
          "Malibu",
          "MammothLakes",
          "ManhattanBeach",
          "Manteca",
          "Maricopa",
          "Marina",
          "Martinez",
          "Marysville",
          "Maywood",
          "McFarland",
          "Mendota",
          "Menifee",
          "MenloPark",
          "Merced",
          "Millbrae",
          "MillValley",
          "Milpitas",
          "MissionViejo",
          "Modesto",
          "Monrovia",
          "Montague",
          "Montclair",
          "Montebello",
          "Monterey",
          "MontereyPark",
          "MonteSereno",
          "Moorpark",
          "Moraga",
          "MorenoValley",
          "MorganHill",
          "MorroBay",
          "MountainView",
          "MountShasta",
          "Murrieta",
          "Napa",
          "NationalCity",
          "Needles",
          "NevadaCity",
          "Newark",
          "Newman",
          "NewportBeach",
          "Norco",
          "Norwalk",
          "Novato",
          "Oakdale",
          "Oakland",
          "Oakley",
          "Oceanside",
          "Ojai",
          "Ontario",
          "Orange",
          "OrangeCove",
          "Orinda",
          "Orland",
          "Oroville",
          "Oxnard",
          "Pacifica",
          "PacificGrove",
          "Palmdale",
          "PalmDesert",
          "PalmSprings",
          "PaloAlto",
          "PalosVerdesEstates",
          "Paradise",
          "Paramount",
          "Parlier",
          "Pasadena",
          "PasoRobles",
          "Patterson",
          "Perris",
          "Petaluma",
          "PicoRivera",
          "Piedmont",
          "Pinole",
          "PismoBeach",
          "Pittsburg",
          "Placentia",
          "Placerville",
          "PleasantHill",
          "Pleasanton",
          "Plymouth",
          "PointArena",
          "Pomona",
          "Porterville",
          "PortHueneme",
          "Portola",
          "PortolaValley",
          "Poway",
          "RanchoCordova",
          "RanchoCucamonga",
          "RanchoMirage",
          "RanchoPalosVerdes",
          "RanchoSantaMargarita",
          "RedBluff",
          "Redding",
          "Redlands",
          "RedondoBeach",
          "RedwoodCity",
          "Reedley",
          "Rialto",
          "Richmond",
          "Ridgecrest",
          "RioDell",
          "RioVista",
          "Ripon",
          "Riverbank",
          "Riverside",
          "Rocklin",
          "RohnertPark",
          "RollingHills",
          "RollingHillsEstates",
          "Rosemead",
          "Roseville",
          "Ross",
          "Sacramento",
          "Salinas",
          "SanAnselmo",
          "SanBernardino",
          "SanBruno",
          "SanCarlos",
          "SanClemente",
          "SandCity",
          "SanDiego",
          "SanDimas",
          "SanFernando",
          "SanFrancisco",
          "SanGabriel",
          "Sanger",
          "SanJacinto",
          "SanJoaquin",
          "SanJose",
          "SanJuanBautista",
          "SanJuanCapistrano",
          "SanLeandro",
          "SanLuisObispo",
          "SanMarcos",
          "SanMarino",
          "SanMateo",
          "SanPablo",
          "SanRafael",
          "SanRamon",
          "SantaAna",
          "SantaBarbara",
          "SantaClara",
          "SantaClarita",
          "SantaCruz",
          "SantaFeSprings",
          "SantaMaria",
          "SantaMonica",
          "SantaPaula",
          "SantaRosa",
          "Santee",
          "Saratoga",
          "Sausalito",
          "ScottsValley",
          "SealBeach",
          "Seaside",
          "Sebastopol",
          "Selma",
          "Shafter",
          "ShastaLake",
          "SierraMadre",
          "SignalHill",
          "SimiValley",
          "SolanaBeach",
          "Soledad",
          "Solvang",
          "Sonoma",
          "Sonora",
          "SouthElMonte",
          "SouthGate",
          "SouthLakeTahoe",
          "SouthPasadena",
          "SouthSanFrancisco",
          "Stanton",
          "StHelena",
          "Stockton",
          "SuisunCity",
          "Sunnyvale",
          "Susanville",
          "SutterCreek",
          "Taft",
          "Tehachapi",
          "Tehama",
          "Temecula",
          "TempleCity",
          "ThousandOaks",
          "Tiburon",
          "Torrance",
          "Tracy",
          "Trinidad",
          "Truckee",
          "Tulare",
          "Tulelake",
          "Turlock",
          "Tustin",
          "TwentyninePalms",
          "Ukiah",
          "UnionCity",
          "Upland",
          "Vacaville",
          "Vallejo",
          "Ventura",
          "Vernon",
          "Victorville",
          "VillaPark",
          "Visalia",
          "Vista",
          "Walnut",
          "WalnutCreek",
          "Wasco",
          "Waterford",
          "Watsonville",
          "Weed",
          "WestCovina",
          "WestHollywood",
          "WestlakeVillage",
          "Westminster",
          "Westmorland",
          "WestSacramento",
          "Wheatland",
          "Whittier",
          "Wildomar",
          "Williams",
          "Willits",
          "Willows",
          "Windsor",
          "Winters",
          "Woodlake",
          "Woodland",
          "Woodside",
          "YorbaLinda",
          "Yountville",
          "Yreka",
          "YubaCity",
          "Yucaipa",
          "YuccaValley"
         ],
         "y": [
          31765,
          20330,
          75467,
          18969,
          83089,
          47823,
          2827,
          185,
          19454,
          336000,
          9932,
          3836,
          107100,
          69135,
          56364,
          17231,
          17716,
          16522,
          19304,
          28310,
          6914,
          28168,
          13330,
          3728,
          13239,
          46361,
          347483,
          75390,
          29603,
          22639,
          36877,
          35477,
          76616,
          42072,
          25835,
          2068,
          26997,
          112580,
          34290,
          5019,
          1707,
          3879,
          1253,
          20817,
          1048,
          24953,
          39282,
          51481,
          4282,
          4828,
          80530,
          103340,
          28806,
          23058,
          38572,
          14120,
          7879,
          7705,
          5155,
          65201,
          39349,
          10561,
          9918,
          105328,
          3722,
          13040,
          91714,
          51200,
          45417,
          49041,
          86187,
          77983,
          75655,
          18720,
          243916,
          83301,
          34926,
          10897,
          15250,
          8618,
          101314,
          40704,
          13380,
          1963,
          1792,
          52154,
          5971,
          12823,
          96455,
          122067,
          25515,
          17382,
          158391,
          24697,
          9253,
          109960,
          7310,
          47796,
          7643,
          23805,
          38883,
          58302,
          47802,
          101123,
          33351,
          42039,
          65622,
          53819,
          4161,
          1624,
          25938,
          55544,
          21453,
          18351,
          939,
          4950,
          111772,
          21321,
          49890,
          1650,
          28155,
          53668,
          99478,
          42598,
          23549,
          153015,
          113475,
          16654,
          10080,
          59518,
          7266,
          143911,
          737,
          27191,
          10334,
          7441,
          108321,
          10588,
          1371,
          15002,
          7549,
          72203,
          201812,
          7273,
          839,
          11926,
          30567,
          55313,
          5570,
          220000,
          509039,
          135161,
          23647,
          58829,
          170883,
          48821,
          196021,
          50073,
          29888,
          8187,
          12040,
          12860,
          16330,
          6593,
          13156,
          7080,
          5520,
          11324,
          55283,
          14254,
          84293,
          149392,
          11254,
          78657,
          24060,
          19506,
          90173,
          1856,
          53014,
          10825,
          34928,
          5939,
          6640,
          197575,
          58114,
          6754,
          26324,
          14758,
          4958,
          76036,
          219,
          109673,
          7918,
          215529,
          1422,
          804,
          4651,
          97496,
          17303,
          12874,
          11382,
          20246,
          24285,
          22723,
          30344,
          62979,
          18747,
          60239,
          5325,
          51821,
          77264,
          4753,
          80048,
          57065,
          48527,
          156633,
          15568,
          39816,
          37467,
          11926,
          18023,
          31063,
          32769,
          25320,
          25281,
          42819,
          11768,
          8392,
          83547,
          13058,
          62134,
          23261,
          20256,
          42434,
          462257,
          6430,
          11449,
          28976,
          7922,
          3884307,
          35972,
          29413,
          769,
          69772,
          61416,
          12645,
          8234,
          35135,
          71067,
          1154,
          29718,
          35824,
          12072,
          27395,
          13745,
          11014,
          77519,
          32026,
          80793,
          21536,
          13903,
          70092,
          96346,
          201165,
          36590,
          1443,
          36664,
          62500,
          27810,
          60269,
          3341,
          34421,
          16016,
          193365,
          37882,
          10234,
          74066,
          3394,
          103466,
          76915,
          58582,
          4844,
          3068,
          43539,
          10224,
          85186,
          27063,
          105549,
          51904,
          20675,
          406253,
          35432,
          183095,
          7461,
          163924,
          136416,
          9078,
          18342,
          7291,
          15506,
          203585,
          37234,
          15295,
          152750,
          48445,
          44552,
          64403,
          13438,
          26249,
          54098,
          14494,
          137122,
          29792,
          20413,
          71326,
          58921,
          62942,
          10667,
          18390,
          7655,
          63264,
          50533,
          10389,
          33152,
          70285,
          1005,
          449,
          1,
          55697,
          21723,
          2104,
          4353,
          47811,
          64776,
          170746,
          17218,
          41643,
          47853,
          24674,
          92328,
          68747,
          66748,
          76815,
          24194,
          101740,
          103701,
          27616,
          3363,
          7360,
          14297,
          22678,
          313673,
          56974,
          40971,
          1860,
          8067,
          53764,
          127323,
          2415,
          466488,
          163665,
          12336,
          209924,
          41114,
          28406,
          63522,
          334,
          1345895,
          33371,
          23645,
          837442,
          39718,
          24270,
          44199,
          4001,
          1000536,
          1862,
          34593,
          86869,
          45119,
          83781,
          13147,
          97207,
          29139,
          57713,
          73927,
          324528,
          90893,
          116468,
          209130,
          62864,
          16223,
          101459,
          89736,
          29321,
          170685,
          53413,
          29926,
          7061,
          11580,
          24168,
          33025,
          7379,
          23219,
          16988,
          10164,
          10917,
          11465,
          126874,
          12867,
          25738,
          5245,
          10648,
          7169,
          20116,
          94396,
          21403,
          25619,
          64409,
          38186,
          5814,
          301090,
          28111,
          140081,
          17974,
          2501,
          9327,
          14414,
          418,
          105208,
          35558,
          128374,
          8962,
          147027,
          82922,
          367,
          16180,
          59278,
          1010,
          69733,
          75540,
          25768,
          16075,
          72155,
          73732,
          92428,
          115942,
          106433,
          112,
          120336,
          5812,
          124442,
          93834,
          29172,
          64173,
          25545,
          8456,
          51199,
          2967,
          106098,
          34650,
          8270,
          89701,
          2225,
          48744,
          3456,
          85331,
          32176,
          5123,
          4888,
          6166,
          26801,
          6624,
          7279,
          55468,
          5287,
          65237,
          2933,
          7765,
          64925,
          51367,
          20700
         ]
        }
       ],
       "layout": {
        "template": {
         "data": {
          "bar": [
           {
            "error_x": {
             "color": "#2a3f5f"
            },
            "error_y": {
             "color": "#2a3f5f"
            },
            "marker": {
             "line": {
              "color": "#E5ECF6",
              "width": 0.5
             },
             "pattern": {
              "fillmode": "overlay",
              "size": 10,
              "solidity": 0.2
             }
            },
            "type": "bar"
           }
          ],
          "barpolar": [
           {
            "marker": {
             "line": {
              "color": "#E5ECF6",
              "width": 0.5
             },
             "pattern": {
              "fillmode": "overlay",
              "size": 10,
              "solidity": 0.2
             }
            },
            "type": "barpolar"
           }
          ],
          "carpet": [
           {
            "aaxis": {
             "endlinecolor": "#2a3f5f",
             "gridcolor": "white",
             "linecolor": "white",
             "minorgridcolor": "white",
             "startlinecolor": "#2a3f5f"
            },
            "baxis": {
             "endlinecolor": "#2a3f5f",
             "gridcolor": "white",
             "linecolor": "white",
             "minorgridcolor": "white",
             "startlinecolor": "#2a3f5f"
            },
            "type": "carpet"
           }
          ],
          "choropleth": [
           {
            "colorbar": {
             "outlinewidth": 0,
             "ticks": ""
            },
            "type": "choropleth"
           }
          ],
          "contour": [
           {
            "colorbar": {
             "outlinewidth": 0,
             "ticks": ""
            },
            "colorscale": [
             [
              0,
              "#0d0887"
             ],
             [
              0.1111111111111111,
              "#46039f"
             ],
             [
              0.2222222222222222,
              "#7201a8"
             ],
             [
              0.3333333333333333,
              "#9c179e"
             ],
             [
              0.4444444444444444,
              "#bd3786"
             ],
             [
              0.5555555555555556,
              "#d8576b"
             ],
             [
              0.6666666666666666,
              "#ed7953"
             ],
             [
              0.7777777777777778,
              "#fb9f3a"
             ],
             [
              0.8888888888888888,
              "#fdca26"
             ],
             [
              1,
              "#f0f921"
             ]
            ],
            "type": "contour"
           }
          ],
          "contourcarpet": [
           {
            "colorbar": {
             "outlinewidth": 0,
             "ticks": ""
            },
            "type": "contourcarpet"
           }
          ],
          "heatmap": [
           {
            "colorbar": {
             "outlinewidth": 0,
             "ticks": ""
            },
            "colorscale": [
             [
              0,
              "#0d0887"
             ],
             [
              0.1111111111111111,
              "#46039f"
             ],
             [
              0.2222222222222222,
              "#7201a8"
             ],
             [
              0.3333333333333333,
              "#9c179e"
             ],
             [
              0.4444444444444444,
              "#bd3786"
             ],
             [
              0.5555555555555556,
              "#d8576b"
             ],
             [
              0.6666666666666666,
              "#ed7953"
             ],
             [
              0.7777777777777778,
              "#fb9f3a"
             ],
             [
              0.8888888888888888,
              "#fdca26"
             ],
             [
              1,
              "#f0f921"
             ]
            ],
            "type": "heatmap"
           }
          ],
          "heatmapgl": [
           {
            "colorbar": {
             "outlinewidth": 0,
             "ticks": ""
            },
            "colorscale": [
             [
              0,
              "#0d0887"
             ],
             [
              0.1111111111111111,
              "#46039f"
             ],
             [
              0.2222222222222222,
              "#7201a8"
             ],
             [
              0.3333333333333333,
              "#9c179e"
             ],
             [
              0.4444444444444444,
              "#bd3786"
             ],
             [
              0.5555555555555556,
              "#d8576b"
             ],
             [
              0.6666666666666666,
              "#ed7953"
             ],
             [
              0.7777777777777778,
              "#fb9f3a"
             ],
             [
              0.8888888888888888,
              "#fdca26"
             ],
             [
              1,
              "#f0f921"
             ]
            ],
            "type": "heatmapgl"
           }
          ],
          "histogram": [
           {
            "marker": {
             "pattern": {
              "fillmode": "overlay",
              "size": 10,
              "solidity": 0.2
             }
            },
            "type": "histogram"
           }
          ],
          "histogram2d": [
           {
            "colorbar": {
             "outlinewidth": 0,
             "ticks": ""
            },
            "colorscale": [
             [
              0,
              "#0d0887"
             ],
             [
              0.1111111111111111,
              "#46039f"
             ],
             [
              0.2222222222222222,
              "#7201a8"
             ],
             [
              0.3333333333333333,
              "#9c179e"
             ],
             [
              0.4444444444444444,
              "#bd3786"
             ],
             [
              0.5555555555555556,
              "#d8576b"
             ],
             [
              0.6666666666666666,
              "#ed7953"
             ],
             [
              0.7777777777777778,
              "#fb9f3a"
             ],
             [
              0.8888888888888888,
              "#fdca26"
             ],
             [
              1,
              "#f0f921"
             ]
            ],
            "type": "histogram2d"
           }
          ],
          "histogram2dcontour": [
           {
            "colorbar": {
             "outlinewidth": 0,
             "ticks": ""
            },
            "colorscale": [
             [
              0,
              "#0d0887"
             ],
             [
              0.1111111111111111,
              "#46039f"
             ],
             [
              0.2222222222222222,
              "#7201a8"
             ],
             [
              0.3333333333333333,
              "#9c179e"
             ],
             [
              0.4444444444444444,
              "#bd3786"
             ],
             [
              0.5555555555555556,
              "#d8576b"
             ],
             [
              0.6666666666666666,
              "#ed7953"
             ],
             [
              0.7777777777777778,
              "#fb9f3a"
             ],
             [
              0.8888888888888888,
              "#fdca26"
             ],
             [
              1,
              "#f0f921"
             ]
            ],
            "type": "histogram2dcontour"
           }
          ],
          "mesh3d": [
           {
            "colorbar": {
             "outlinewidth": 0,
             "ticks": ""
            },
            "type": "mesh3d"
           }
          ],
          "parcoords": [
           {
            "line": {
             "colorbar": {
              "outlinewidth": 0,
              "ticks": ""
             }
            },
            "type": "parcoords"
           }
          ],
          "pie": [
           {
            "automargin": true,
            "type": "pie"
           }
          ],
          "scatter": [
           {
            "fillpattern": {
             "fillmode": "overlay",
             "size": 10,
             "solidity": 0.2
            },
            "type": "scatter"
           }
          ],
          "scatter3d": [
           {
            "line": {
             "colorbar": {
              "outlinewidth": 0,
              "ticks": ""
             }
            },
            "marker": {
             "colorbar": {
              "outlinewidth": 0,
              "ticks": ""
             }
            },
            "type": "scatter3d"
           }
          ],
          "scattercarpet": [
           {
            "marker": {
             "colorbar": {
              "outlinewidth": 0,
              "ticks": ""
             }
            },
            "type": "scattercarpet"
           }
          ],
          "scattergeo": [
           {
            "marker": {
             "colorbar": {
              "outlinewidth": 0,
              "ticks": ""
             }
            },
            "type": "scattergeo"
           }
          ],
          "scattergl": [
           {
            "marker": {
             "colorbar": {
              "outlinewidth": 0,
              "ticks": ""
             }
            },
            "type": "scattergl"
           }
          ],
          "scattermapbox": [
           {
            "marker": {
             "colorbar": {
              "outlinewidth": 0,
              "ticks": ""
             }
            },
            "type": "scattermapbox"
           }
          ],
          "scatterpolar": [
           {
            "marker": {
             "colorbar": {
              "outlinewidth": 0,
              "ticks": ""
             }
            },
            "type": "scatterpolar"
           }
          ],
          "scatterpolargl": [
           {
            "marker": {
             "colorbar": {
              "outlinewidth": 0,
              "ticks": ""
             }
            },
            "type": "scatterpolargl"
           }
          ],
          "scatterternary": [
           {
            "marker": {
             "colorbar": {
              "outlinewidth": 0,
              "ticks": ""
             }
            },
            "type": "scatterternary"
           }
          ],
          "surface": [
           {
            "colorbar": {
             "outlinewidth": 0,
             "ticks": ""
            },
            "colorscale": [
             [
              0,
              "#0d0887"
             ],
             [
              0.1111111111111111,
              "#46039f"
             ],
             [
              0.2222222222222222,
              "#7201a8"
             ],
             [
              0.3333333333333333,
              "#9c179e"
             ],
             [
              0.4444444444444444,
              "#bd3786"
             ],
             [
              0.5555555555555556,
              "#d8576b"
             ],
             [
              0.6666666666666666,
              "#ed7953"
             ],
             [
              0.7777777777777778,
              "#fb9f3a"
             ],
             [
              0.8888888888888888,
              "#fdca26"
             ],
             [
              1,
              "#f0f921"
             ]
            ],
            "type": "surface"
           }
          ],
          "table": [
           {
            "cells": {
             "fill": {
              "color": "#EBF0F8"
             },
             "line": {
              "color": "white"
             }
            },
            "header": {
             "fill": {
              "color": "#C8D4E3"
             },
             "line": {
              "color": "white"
             }
            },
            "type": "table"
           }
          ]
         },
         "layout": {
          "annotationdefaults": {
           "arrowcolor": "#2a3f5f",
           "arrowhead": 0,
           "arrowwidth": 1
          },
          "autotypenumbers": "strict",
          "coloraxis": {
           "colorbar": {
            "outlinewidth": 0,
            "ticks": ""
           }
          },
          "colorscale": {
           "diverging": [
            [
             0,
             "#8e0152"
            ],
            [
             0.1,
             "#c51b7d"
            ],
            [
             0.2,
             "#de77ae"
            ],
            [
             0.3,
             "#f1b6da"
            ],
            [
             0.4,
             "#fde0ef"
            ],
            [
             0.5,
             "#f7f7f7"
            ],
            [
             0.6,
             "#e6f5d0"
            ],
            [
             0.7,
             "#b8e186"
            ],
            [
             0.8,
             "#7fbc41"
            ],
            [
             0.9,
             "#4d9221"
            ],
            [
             1,
             "#276419"
            ]
           ],
           "sequential": [
            [
             0,
             "#0d0887"
            ],
            [
             0.1111111111111111,
             "#46039f"
            ],
            [
             0.2222222222222222,
             "#7201a8"
            ],
            [
             0.3333333333333333,
             "#9c179e"
            ],
            [
             0.4444444444444444,
             "#bd3786"
            ],
            [
             0.5555555555555556,
             "#d8576b"
            ],
            [
             0.6666666666666666,
             "#ed7953"
            ],
            [
             0.7777777777777778,
             "#fb9f3a"
            ],
            [
             0.8888888888888888,
             "#fdca26"
            ],
            [
             1,
             "#f0f921"
            ]
           ],
           "sequentialminus": [
            [
             0,
             "#0d0887"
            ],
            [
             0.1111111111111111,
             "#46039f"
            ],
            [
             0.2222222222222222,
             "#7201a8"
            ],
            [
             0.3333333333333333,
             "#9c179e"
            ],
            [
             0.4444444444444444,
             "#bd3786"
            ],
            [
             0.5555555555555556,
             "#d8576b"
            ],
            [
             0.6666666666666666,
             "#ed7953"
            ],
            [
             0.7777777777777778,
             "#fb9f3a"
            ],
            [
             0.8888888888888888,
             "#fdca26"
            ],
            [
             1,
             "#f0f921"
            ]
           ]
          },
          "colorway": [
           "#636efa",
           "#EF553B",
           "#00cc96",
           "#ab63fa",
           "#FFA15A",
           "#19d3f3",
           "#FF6692",
           "#B6E880",
           "#FF97FF",
           "#FECB52"
          ],
          "font": {
           "color": "#2a3f5f"
          },
          "geo": {
           "bgcolor": "white",
           "lakecolor": "white",
           "landcolor": "#E5ECF6",
           "showlakes": true,
           "showland": true,
           "subunitcolor": "white"
          },
          "hoverlabel": {
           "align": "left"
          },
          "hovermode": "closest",
          "mapbox": {
           "style": "light"
          },
          "paper_bgcolor": "white",
          "plot_bgcolor": "#E5ECF6",
          "polar": {
           "angularaxis": {
            "gridcolor": "white",
            "linecolor": "white",
            "ticks": ""
           },
           "bgcolor": "#E5ECF6",
           "radialaxis": {
            "gridcolor": "white",
            "linecolor": "white",
            "ticks": ""
           }
          },
          "scene": {
           "xaxis": {
            "backgroundcolor": "#E5ECF6",
            "gridcolor": "white",
            "gridwidth": 2,
            "linecolor": "white",
            "showbackground": true,
            "ticks": "",
            "zerolinecolor": "white"
           },
           "yaxis": {
            "backgroundcolor": "#E5ECF6",
            "gridcolor": "white",
            "gridwidth": 2,
            "linecolor": "white",
            "showbackground": true,
            "ticks": "",
            "zerolinecolor": "white"
           },
           "zaxis": {
            "backgroundcolor": "#E5ECF6",
            "gridcolor": "white",
            "gridwidth": 2,
            "linecolor": "white",
            "showbackground": true,
            "ticks": "",
            "zerolinecolor": "white"
           }
          },
          "shapedefaults": {
           "line": {
            "color": "#2a3f5f"
           }
          },
          "ternary": {
           "aaxis": {
            "gridcolor": "white",
            "linecolor": "white",
            "ticks": ""
           },
           "baxis": {
            "gridcolor": "white",
            "linecolor": "white",
            "ticks": ""
           },
           "bgcolor": "#E5ECF6",
           "caxis": {
            "gridcolor": "white",
            "linecolor": "white",
            "ticks": ""
           }
          },
          "title": {
           "x": 0.05
          },
          "xaxis": {
           "automargin": true,
           "gridcolor": "white",
           "linecolor": "white",
           "ticks": "",
           "title": {
            "standoff": 15
           },
           "zerolinecolor": "white",
           "zerolinewidth": 2
          },
          "yaxis": {
           "automargin": true,
           "gridcolor": "white",
           "linecolor": "white",
           "ticks": "",
           "title": {
            "standoff": 15
           },
           "zerolinecolor": "white",
           "zerolinewidth": 2
          }
         }
        },
        "title": {
         "text": "Distribution of Population for city"
        },
        "xaxis": {
         "title": {
          "text": "City"
         }
        },
        "yaxis": {
         "title": {
          "text": "Population"
         }
        }
       }
      }
     },
     "metadata": {},
     "output_type": "display_data"
    }
   ],
   "source": [
    "# Distribution of Population\n",
    "fig = go.Figure()\n",
    "\n",
    "# New Users\n",
    "fig.add_trace(go.Scatter(x=cities['city'], y=cities['population_total'], mode='lines+markers', name='Population'))\n",
    "\n",
    "# Update layout\n",
    "fig.update_layout(title='Distribution of Population for city',\n",
    "                  xaxis_title='City',\n",
    "                  yaxis_title='Population')\n",
    "\n",
    "fig.show()"
   ]
  },
  {
   "cell_type": "code",
   "execution_count": 9,
   "metadata": {},
   "outputs": [],
   "source": [
    "# Extracting the data we ar interested in\n",
    "latitute, longitude = cities[\"latd\"], cities[\"longd\"]\n",
    "population, area = cities[\"population_total\"], cities[\"area_total_km2\"]\n"
   ]
  },
  {
   "cell_type": "code",
   "execution_count": null,
   "metadata": {},
   "outputs": [
    {
     "data": {
      "image/png": "[encoded data removed]",
      "text/plain": [
       "<Figure size 640x480 with 2 Axes>"
      ]
     },
     "metadata": {},
     "output_type": "display_data"
    }
   ],
   "source": [
    "# To scatter the points, using size and color but without label\n",
    "\n",
    "import numpy as np\n",
    "import matplotlib.pyplot as plt\n",
    "import seaborn\n",
    "seaborn.set_theme()\n",
    "plt.scatter(longitude, latitute, label=None, c=np.log10(population),\n",
    "            cmap='viridis', s=area, linewidth=0, alpha=0.5)\n",
    "plt.gca().set_aspect('equal')\n",
    "plt.xlabel('longitude')\n",
    "plt.ylabel('longitude')\n",
    "plt.colorbar(label='long$_{10}$(population)')\n",
    "plt.clim(3, 7)\n",
    "\n",
    "# now we will create a legend, we will plot empty lists with the desired size and label\n",
    "for area in [100, 300, 500]:\n",
    "    plt.scatter([], [], c='k', alpha=0.3, s=area, label=str(area) + 'km$^2$') \n",
    "plt.legend(scatterpoints=1, frameon=False, labelspacing=1, title='City Areas')\n",
    "plt.title(\"Area and Population of California Cities\")\n",
    "plt.show()\n",
    "    "
   ]
  }
 ],
 "metadata": {
  "kernelspec": {
   "display_name": "Python 3",
   "language": "python",
   "name": "python3"
  },
  "language_info": {
   "codemirror_mode": {
    "name": "ipython",
    "version": 3
   },
   "file_extension": ".py",
   "mimetype": "text/x-python",
   "name": "python",
   "nbconvert_exporter": "python",
   "pygments_lexer": "ipython3",
   "version": "3.12.2"
  }
 },
 "nbformat": 4,
 "nbformat_minor": 2
}
